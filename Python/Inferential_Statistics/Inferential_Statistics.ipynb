{
 "cells": [
  {
   "cell_type": "markdown",
   "id": "074e78e8",
   "metadata": {},
   "source": [
    "# Confidence Interval"
   ]
  },
  {
   "cell_type": "code",
   "execution_count": 1,
   "id": "47326638",
   "metadata": {},
   "outputs": [],
   "source": [
    "import scipy.stats as st\n",
    "import statistics as s\n",
    "import numpy as np\n",
    "import matplotlib.pyplot as plt\n",
    "import pandas as pd"
   ]
  },
  {
   "cell_type": "code",
   "execution_count": 2,
   "id": "398cf0d7",
   "metadata": {},
   "outputs": [
    {
     "name": "stdout",
     "output_type": "stream",
     "text": [
      "-0.11477951297896367\n",
      "0.31483825638018076\n"
     ]
    }
   ],
   "source": [
    "x=np.random.normal(size=100)\n",
    "\n",
    "#sample mean\n",
    "sample_mean=np.mean(x)\n",
    "#standard deviation of sample\n",
    "sample_std=np.std(x)\n",
    "## Standard error of mean\n",
    "std_err=st.sem(x)\n",
    "Z_value=st.norm.ppf(1.0-0.01)\n",
    "\n",
    "### Calculating the lower and upper bounds for confidence interval\n",
    "lowerCI=sample_mean-(Z_value*std_err)\n",
    "upperCI=sample_mean+(Z_value*std_err)\n",
    "\n",
    "print(lowerCI)\n",
    "print(upperCI)"
   ]
  },
  {
   "cell_type": "code",
   "execution_count": 3,
   "id": "3dfb855e",
   "metadata": {},
   "outputs": [
    {
     "data": {
      "text/plain": [
       "<Figure size 720x360 with 0 Axes>"
      ]
     },
     "metadata": {},
     "output_type": "display_data"
    },
    {
     "data": {
      "image/png": "[encoded data removed]",
      "text/plain": [
       "<Figure size 360x360 with 1 Axes>"
      ]
     },
     "metadata": {
      "needs_background": "light"
     },
     "output_type": "display_data"
    }
   ],
   "source": [
    "import seaborn as sns\n",
    "\n",
    "plt.figure(figsize=(10,5))\n",
    "sns.displot(x)\n",
    "plt.axvline(x=lowerCI,color=\"red\")\n",
    "plt.axvline(x=upperCI,color=\"red\")\n",
    "plt.axvline(x=sample_mean,color=\"green\")\n",
    "plt.show()"
   ]
  },
  {
   "cell_type": "markdown",
   "id": "ddf3d772",
   "metadata": {},
   "source": [
    "# One sample t test"
   ]
  },
  {
   "cell_type": "code",
   "execution_count": 4,
   "id": "41fa11d4",
   "metadata": {},
   "outputs": [],
   "source": [
    "from scipy.stats import ttest_1samp\n",
    "from random import sample, choices"
   ]
  },
  {
   "cell_type": "code",
   "execution_count": 5,
   "id": "04a2b32d",
   "metadata": {},
   "outputs": [
    {
     "name": "stdout",
     "output_type": "stream",
     "text": [
      "Ttest_1sampResult(statistic=-1.4417066035286843, pvalue=0.16009784665643043)\n"
     ]
    }
   ],
   "source": [
    "# generate a random sample\n",
    "sample1=sample(range(145,180),30)\n",
    "\n",
    "## cslculating sample mean\n",
    "sample_mean=np.mean(sample1)\n",
    "\n",
    "## calculating the one sample t test\n",
    "print(ttest_1samp(a=sample1,popmean=165))\n"
   ]
  },
  {
   "cell_type": "code",
   "execution_count": 6,
   "id": "5e575dfa",
   "metadata": {},
   "outputs": [
    {
     "data": {
      "text/plain": [
       "162.16666666666666"
      ]
     },
     "execution_count": 6,
     "metadata": {},
     "output_type": "execute_result"
    }
   ],
   "source": [
    "sample_mean"
   ]
  },
  {
   "cell_type": "markdown",
   "id": "cf444f82",
   "metadata": {},
   "source": [
    "# Two sample t test/Independent t test"
   ]
  },
  {
   "cell_type": "code",
   "execution_count": 7,
   "id": "a7cb18f1",
   "metadata": {},
   "outputs": [],
   "source": [
    "from scipy.stats import ttest_ind"
   ]
  },
  {
   "cell_type": "code",
   "execution_count": 8,
   "id": "795a2f90",
   "metadata": {},
   "outputs": [],
   "source": [
    "## creating the sample data\n",
    "sample1=sample(range(140,184),30)\n",
    "sample2=sample(range(140,184),30)"
   ]
  },
  {
   "cell_type": "markdown",
   "id": "80e29bd1",
   "metadata": {},
   "source": [
    "Null: Sample1 mean = sample2 mean\n",
    "\n",
    "Alternate: Sample1 mean not = sample2 mean\n"
   ]
  },
  {
   "cell_type": "code",
   "execution_count": 9,
   "id": "1fff0c89",
   "metadata": {},
   "outputs": [
    {
     "name": "stdout",
     "output_type": "stream",
     "text": [
      "159.19555555555556\n",
      "163.36555555555555\n"
     ]
    }
   ],
   "source": [
    "print(np.var(sample1))\n",
    "print(np.var(sample2))\n"
   ]
  },
  {
   "cell_type": "code",
   "execution_count": 10,
   "id": "aa5d460e",
   "metadata": {},
   "outputs": [
    {
     "data": {
      "text/plain": [
       "Ttest_indResult(statistic=0.6696479500840181, pvalue=0.5057399243352545)"
      ]
     },
     "execution_count": 10,
     "metadata": {},
     "output_type": "execute_result"
    }
   ],
   "source": [
    "#Calcukating two sample t test\n",
    "ttest_ind(sample1,sample2,equal_var=False)"
   ]
  },
  {
   "cell_type": "markdown",
   "id": "b4d1effe",
   "metadata": {},
   "source": [
    "# at 95 % confidence level, we fail to reject the null hypothesis\n",
    "\n",
    "We dont have enough evidence to say whether average hight of male is different than female"
   ]
  },
  {
   "cell_type": "code",
   "execution_count": 11,
   "id": "575b43f0",
   "metadata": {},
   "outputs": [
    {
     "data": {
      "text/plain": [
       "164.26666666666668"
      ]
     },
     "execution_count": 11,
     "metadata": {},
     "output_type": "execute_result"
    }
   ],
   "source": [
    "np.mean(sample1)"
   ]
  },
  {
   "cell_type": "code",
   "execution_count": 12,
   "id": "28755c5e",
   "metadata": {},
   "outputs": [
    {
     "data": {
      "text/plain": [
       "162.03333333333333"
      ]
     },
     "execution_count": 12,
     "metadata": {},
     "output_type": "execute_result"
    }
   ],
   "source": [
    "np.mean(sample2)"
   ]
  },
  {
   "cell_type": "markdown",
   "id": "47a8d7a5",
   "metadata": {},
   "source": [
    "# Paired T test"
   ]
  },
  {
   "cell_type": "code",
   "execution_count": 13,
   "id": "fe3776de",
   "metadata": {},
   "outputs": [],
   "source": [
    "from scipy.stats import ttest_rel"
   ]
  },
  {
   "cell_type": "code",
   "execution_count": 14,
   "id": "1a2c2346",
   "metadata": {},
   "outputs": [
    {
     "data": {
      "text/plain": [
       "Ttest_relResult(statistic=-8.528519421884036, pvalue=2.142119040691923e-09)"
      ]
     },
     "execution_count": 14,
     "metadata": {},
     "output_type": "execute_result"
    }
   ],
   "source": [
    "fasting_sugar=sample(range(75,110),30)\n",
    "ppbs=sample(range(95,150),30)\n",
    "\n",
    "ttest_rel(fasting_sugar,ppbs)"
   ]
  },
  {
   "cell_type": "markdown",
   "id": "e81a93a8",
   "metadata": {},
   "source": [
    "# F test"
   ]
  },
  {
   "cell_type": "code",
   "execution_count": 15,
   "id": "e048a6b0",
   "metadata": {},
   "outputs": [
    {
     "name": "stdout",
     "output_type": "stream",
     "text": [
      "2.207504634779384 0.018425547345841564\n"
     ]
    }
   ],
   "source": [
    "male_height=sample(range(145,190),30)\n",
    "female_height=sample(range(140,170),30)\n",
    "\n",
    "f=np.var(male_height)/np.var(female_height)\n",
    "\n",
    "p=1-st.f.cdf(f,(len(male_height)-1),(len(female_height)-1))\n",
    "\n",
    "print(f, p)"
   ]
  },
  {
   "cell_type": "code",
   "execution_count": 16,
   "id": "52ee56bf",
   "metadata": {},
   "outputs": [],
   "source": [
    "# since p value is less than 0.05, at 95% confidence i will reject the null hypothesis. Both samples do not equal \n",
    "#variances"
   ]
  },
  {
   "cell_type": "markdown",
   "id": "9c7400ce",
   "metadata": {},
   "source": [
    "# Analysis of Variance\n",
    "\n",
    "One Way ANOVA"
   ]
  },
  {
   "cell_type": "code",
   "execution_count": 17,
   "id": "00e64e57",
   "metadata": {},
   "outputs": [],
   "source": [
    "from scipy.stats import f_oneway"
   ]
  },
  {
   "cell_type": "code",
   "execution_count": 18,
   "id": "89ced1fe",
   "metadata": {},
   "outputs": [
    {
     "data": {
      "text/plain": [
       "F_onewayResult(statistic=27.91629446205827, pvalue=3.5322271490296806e-09)"
      ]
     },
     "execution_count": 18,
     "metadata": {},
     "output_type": "execute_result"
    }
   ],
   "source": [
    "sample1=sample(range(130,150),20)\n",
    "sample2=sample(range(133,155),20)\n",
    "sample3=sample(range(120,140),20)\n",
    "\n",
    "f_oneway(sample1,sample2,sample3)"
   ]
  },
  {
   "cell_type": "code",
   "execution_count": 19,
   "id": "d5b8031b",
   "metadata": {},
   "outputs": [],
   "source": [
    "## Since p values is less than 0.05, at 95% confidence, i will reject the null hypothesis. Meaning,\n",
    "#the avergae height for atleast one sample is different than other 2 samples"
   ]
  },
  {
   "cell_type": "markdown",
   "id": "51df4c8c",
   "metadata": {},
   "source": [
    "# Analysis of Variance\n",
    "Two Way ANOVA"
   ]
  },
  {
   "cell_type": "code",
   "execution_count": 20,
   "id": "5f43cf34",
   "metadata": {},
   "outputs": [],
   "source": [
    "import statsmodels.api as sm\n",
    "from statsmodels.formula.api import ols"
   ]
  },
  {
   "cell_type": "code",
   "execution_count": 21,
   "id": "4b8e35cd",
   "metadata": {},
   "outputs": [
    {
     "data": {
      "text/html": [
       "<div>\n",
       "<style scoped>\n",
       "    .dataframe tbody tr th:only-of-type {\n",
       "        vertical-align: middle;\n",
       "    }\n",
       "\n",
       "    .dataframe tbody tr th {\n",
       "        vertical-align: top;\n",
       "    }\n",
       "\n",
       "    .dataframe thead th {\n",
       "        text-align: right;\n",
       "    }\n",
       "</style>\n",
       "<table border=\"1\" class=\"dataframe\">\n",
       "  <thead>\n",
       "    <tr style=\"text-align: right;\">\n",
       "      <th></th>\n",
       "      <th>sum_sq</th>\n",
       "      <th>df</th>\n",
       "      <th>F</th>\n",
       "      <th>PR(&gt;F)</th>\n",
       "    </tr>\n",
       "  </thead>\n",
       "  <tbody>\n",
       "    <tr>\n",
       "      <th>C(Lectures)</th>\n",
       "      <td>8537.760</td>\n",
       "      <td>1.0</td>\n",
       "      <td>21.222718</td>\n",
       "      <td>4.497104e-05</td>\n",
       "    </tr>\n",
       "    <tr>\n",
       "      <th>C(Tuition)</th>\n",
       "      <td>8537.760</td>\n",
       "      <td>1.0</td>\n",
       "      <td>21.222718</td>\n",
       "      <td>4.497104e-05</td>\n",
       "    </tr>\n",
       "    <tr>\n",
       "      <th>C(Gender)</th>\n",
       "      <td>53562.645</td>\n",
       "      <td>1.0</td>\n",
       "      <td>133.143229</td>\n",
       "      <td>5.529898e-14</td>\n",
       "    </tr>\n",
       "    <tr>\n",
       "      <th>Residual</th>\n",
       "      <td>15287.150</td>\n",
       "      <td>38.0</td>\n",
       "      <td>NaN</td>\n",
       "      <td>NaN</td>\n",
       "    </tr>\n",
       "  </tbody>\n",
       "</table>\n",
       "</div>"
      ],
      "text/plain": [
       "                sum_sq    df           F        PR(>F)\n",
       "C(Lectures)   8537.760   1.0   21.222718  4.497104e-05\n",
       "C(Tuition)    8537.760   1.0   21.222718  4.497104e-05\n",
       "C(Gender)    53562.645   1.0  133.143229  5.529898e-14\n",
       "Residual     15287.150  38.0         NaN           NaN"
      ]
     },
     "execution_count": 21,
     "metadata": {},
     "output_type": "execute_result"
    }
   ],
   "source": [
    "x={\"Lectures\":np.repeat([\"Daily\",\"Weekly\"],20),\n",
    "  \"Tuition\":np.repeat([\"Daily\",\"Weekly\"],20),\n",
    "   \"Gender\":np.repeat([\"M\",\"F\"],20),\n",
    "  \"Marks\":sample(range(33,100),40)}\n",
    "\n",
    "data=pd.DataFrame(x)\n",
    "\n",
    "model=ols('Marks~C(Lectures)+C(Tuition)+C(Gender)',data=data).fit()\n",
    "\n",
    "sm.stats.anova_lm(model,typ=2)"
   ]
  },
  {
   "cell_type": "code",
   "execution_count": 22,
   "id": "7b8ed105",
   "metadata": {},
   "outputs": [],
   "source": [
    "## Since p value for both parameters is greater than 0.05, we fail to reject the null hypotheses. \n",
    "#meaning, both the parameters do not hav any effect on Marks "
   ]
  },
  {
   "cell_type": "markdown",
   "id": "91ecfb37",
   "metadata": {},
   "source": [
    "# One Sample Z test"
   ]
  },
  {
   "cell_type": "code",
   "execution_count": 23,
   "id": "35c52a33",
   "metadata": {},
   "outputs": [],
   "source": [
    "from random import sample\n",
    "from statsmodels.stats.weightstats import ztest"
   ]
  },
  {
   "cell_type": "code",
   "execution_count": 24,
   "id": "d4deeb99",
   "metadata": {},
   "outputs": [
    {
     "data": {
      "text/plain": [
       "(-0.24253562503633297, 0.8083651559145103)"
      ]
     },
     "execution_count": 24,
     "metadata": {},
     "output_type": "execute_result"
    }
   ],
   "source": [
    "sampledata=sample(range(30,80),50)\n",
    "\n",
    "ztest(sampledata,value=55)"
   ]
  },
  {
   "cell_type": "markdown",
   "id": "c5bd9f69",
   "metadata": {},
   "source": [
    "# Two sample z test\n"
   ]
  },
  {
   "cell_type": "code",
   "execution_count": 25,
   "id": "b6b6cd9c",
   "metadata": {},
   "outputs": [],
   "source": [
    "from statsmodels.stats.weightstats import ztest"
   ]
  },
  {
   "cell_type": "code",
   "execution_count": 26,
   "id": "5ad18bf3",
   "metadata": {},
   "outputs": [
    {
     "data": {
      "text/plain": [
       "(-0.3865228509299656, 0.6991094824604124)"
      ]
     },
     "execution_count": 26,
     "metadata": {},
     "output_type": "execute_result"
    }
   ],
   "source": [
    "sample1=sample(range(130,185),50)\n",
    "sample2=sample(range(130,185),50)\n",
    "\n",
    "ztest(sample1,sample2)"
   ]
  },
  {
   "cell_type": "markdown",
   "id": "929f97a3",
   "metadata": {},
   "source": [
    "# Chi Square test of independence"
   ]
  },
  {
   "cell_type": "code",
   "execution_count": 27,
   "id": "438d886d",
   "metadata": {},
   "outputs": [],
   "source": [
    "from scipy.stats import chi2_contingency"
   ]
  },
  {
   "cell_type": "code",
   "execution_count": 28,
   "id": "ff775d5a",
   "metadata": {},
   "outputs": [
    {
     "data": {
      "text/html": [
       "<div>\n",
       "<style scoped>\n",
       "    .dataframe tbody tr th:only-of-type {\n",
       "        vertical-align: middle;\n",
       "    }\n",
       "\n",
       "    .dataframe tbody tr th {\n",
       "        vertical-align: top;\n",
       "    }\n",
       "\n",
       "    .dataframe thead th {\n",
       "        text-align: right;\n",
       "    }\n",
       "</style>\n",
       "<table border=\"1\" class=\"dataframe\">\n",
       "  <thead>\n",
       "    <tr style=\"text-align: right;\">\n",
       "      <th>Loan</th>\n",
       "      <th>Rural</th>\n",
       "      <th>Urban</th>\n",
       "    </tr>\n",
       "    <tr>\n",
       "      <th>Location</th>\n",
       "      <th></th>\n",
       "      <th></th>\n",
       "    </tr>\n",
       "  </thead>\n",
       "  <tbody>\n",
       "    <tr>\n",
       "      <th>Approved</th>\n",
       "      <td>20</td>\n",
       "      <td>0</td>\n",
       "    </tr>\n",
       "    <tr>\n",
       "      <th>Not Approved</th>\n",
       "      <td>0</td>\n",
       "      <td>20</td>\n",
       "    </tr>\n",
       "  </tbody>\n",
       "</table>\n",
       "</div>"
      ],
      "text/plain": [
       "Loan          Rural  Urban\n",
       "Location                  \n",
       "Approved         20      0\n",
       "Not Approved      0     20"
      ]
     },
     "execution_count": 28,
     "metadata": {},
     "output_type": "execute_result"
    }
   ],
   "source": [
    "location=np.repeat([\"Rural\",\"Urban\"],20)\n",
    "loan=np.repeat([\"Approved\",\"Not Approved\"],20)\n",
    "\n",
    "data=pd.DataFrame(location,loan).reset_index()\n",
    "data.columns=[\"Location\",\"Loan\"]\n",
    "\n",
    "contingency_table=pd.crosstab(data[\"Location\"],data[\"Loan\"])\n",
    "\n",
    "contingency_table"
   ]
  },
  {
   "cell_type": "code",
   "execution_count": 29,
   "id": "01c8a216",
   "metadata": {},
   "outputs": [
    {
     "data": {
      "text/plain": [
       "(36.1,\n",
       " 1.8744684504065423e-09,\n",
       " 1,\n",
       " array([[10., 10.],\n",
       "        [10., 10.]]))"
      ]
     },
     "execution_count": 29,
     "metadata": {},
     "output_type": "execute_result"
    }
   ],
   "source": [
    "chi2_contingency(contingency_table)"
   ]
  }
 ],
 "metadata": {
  "kernelspec": {
   "display_name": "Python 3 (ipykernel)",
   "language": "python",
   "name": "python3"
  },
  "language_info": {
   "codemirror_mode": {
    "name": "ipython",
    "version": 3
   },
   "file_extension": ".py",
   "mimetype": "text/x-python",
   "name": "python",
   "nbconvert_exporter": "python",
   "pygments_lexer": "ipython3",
   "version": "3.6.13"
  }
 },
 "nbformat": 4,
 "nbformat_minor": 5
}
