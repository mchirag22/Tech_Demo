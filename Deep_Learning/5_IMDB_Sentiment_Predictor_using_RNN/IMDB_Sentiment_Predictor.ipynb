{
 "cells": [
  {
   "cell_type": "markdown",
   "metadata": {},
   "source": [
    "# Importing Liberaries"
   ]
  },
  {
   "cell_type": "code",
   "execution_count": 1,
   "metadata": {},
   "outputs": [],
   "source": [
    "from tensorflow.keras.models import Sequential\n",
    "from tensorflow.keras.layers import Embedding, SimpleRNN, Dense\n",
    "from tensorflow.keras.datasets import imdb\n",
    "from tensorflow.keras.preprocessing.sequence import pad_sequences\n",
    "from tensorflow.keras.utils import to_categorical\n",
    "from tensorflow.keras.optimizers import Adam\n",
    "from tensorflow.keras.callbacks import EarlyStopping\n",
    "\n",
    "import numpy as np\n",
    "import matplotlib.pyplot as plt"
   ]
  },
  {
   "cell_type": "markdown",
   "metadata": {},
   "source": [
    "#### Data Pre-Processing"
   ]
  },
  {
   "cell_type": "code",
   "execution_count": 2,
   "metadata": {},
   "outputs": [
    {
     "name": "stderr",
     "output_type": "stream",
     "text": [
      "e:\\Apps\\Anaconda\\envs\\directml\\lib\\site-packages\\tensorflow_core\\python\\keras\\datasets\\imdb.py:129: VisibleDeprecationWarning: Creating an ndarray from ragged nested sequences (which is a list-or-tuple of lists-or-tuples-or ndarrays with different lengths or shapes) is deprecated. If you meant to do this, you must specify 'dtype=object' when creating the ndarray\n",
      "  x_train, y_train = np.array(xs[:idx]), np.array(labels[:idx])\n",
      "e:\\Apps\\Anaconda\\envs\\directml\\lib\\site-packages\\tensorflow_core\\python\\keras\\datasets\\imdb.py:130: VisibleDeprecationWarning: Creating an ndarray from ragged nested sequences (which is a list-or-tuple of lists-or-tuples-or ndarrays with different lengths or shapes) is deprecated. If you meant to do this, you must specify 'dtype=object' when creating the ndarray\n",
      "  x_test, y_test = np.array(xs[idx:]), np.array(labels[idx:])\n"
     ]
    }
   ],
   "source": [
    "# Load data with filtering and padding\n",
    "(X_train, y_train), (X_test, y_test) = imdb.load_data(num_words=10000, skip_top=20)"
   ]
  },
  {
   "cell_type": "code",
   "execution_count": 3,
   "metadata": {},
   "outputs": [
    {
     "name": "stdout",
     "output_type": "stream",
     "text": [
      "(25000,)\n",
      "(25000,)\n",
      "(25000,)\n",
      "(25000,)\n"
     ]
    }
   ],
   "source": [
    "print(X_train.shape)\n",
    "print(y_train.shape)\n",
    "print(X_test.shape)\n",
    "print(y_test.shape)"
   ]
  },
  {
   "cell_type": "code",
   "execution_count": 4,
   "metadata": {},
   "outputs": [
    {
     "data": {
      "text/plain": [
       "array([list([2, 2, 22, 2, 43, 530, 973, 1622, 1385, 65, 458, 4468, 66, 3941, 2, 173, 36, 256, 2, 25, 100, 43, 838, 112, 50, 670, 2, 2, 35, 480, 284, 2, 150, 2, 172, 112, 167, 2, 336, 385, 39, 2, 172, 4536, 1111, 2, 546, 38, 2, 447, 2, 192, 50, 2, 2, 147, 2025, 2, 2, 22, 2, 1920, 4613, 469, 2, 22, 71, 87, 2, 2, 43, 530, 38, 76, 2, 2, 1247, 2, 22, 2, 515, 2, 2, 2, 626, 2, 2, 2, 62, 386, 2, 2, 316, 2, 106, 2, 2, 2223, 5244, 2, 480, 66, 3785, 33, 2, 130, 2, 2, 38, 619, 2, 25, 124, 51, 36, 135, 48, 25, 1415, 33, 2, 22, 2, 215, 28, 77, 52, 2, 2, 407, 2, 82, 2, 2, 2, 107, 117, 5952, 2, 256, 2, 2, 2, 3766, 2, 723, 36, 71, 43, 530, 476, 26, 400, 317, 46, 2, 2, 2, 1029, 2, 104, 88, 2, 381, 2, 297, 98, 32, 2071, 56, 26, 141, 2, 194, 7486, 2, 2, 226, 22, 21, 134, 476, 26, 480, 2, 144, 30, 5535, 2, 51, 36, 28, 224, 92, 25, 104, 2, 226, 65, 2, 38, 1334, 88, 2, 2, 283, 2, 2, 4472, 113, 103, 32, 2, 2, 5345, 2, 178, 32]),\n",
       "       list([2, 194, 1153, 194, 8255, 78, 228, 2, 2, 1463, 4369, 5012, 134, 26, 2, 715, 2, 118, 1634, 2, 394, 20, 2, 119, 954, 189, 102, 2, 207, 110, 3103, 21, 2, 69, 188, 2, 30, 23, 2, 2, 249, 126, 93, 2, 114, 2, 2300, 1523, 2, 647, 2, 116, 2, 35, 8163, 2, 229, 2, 340, 1322, 2, 118, 2, 2, 130, 4901, 2, 2, 1002, 2, 89, 29, 952, 46, 37, 2, 455, 2, 45, 43, 38, 1543, 1905, 398, 2, 1649, 26, 6853, 2, 163, 2, 3215, 2, 2, 1153, 2, 194, 775, 2, 8255, 2, 349, 2637, 148, 605, 2, 8003, 2, 123, 125, 68, 2, 6853, 2, 349, 165, 4362, 98, 2, 2, 228, 2, 43, 2, 1157, 2, 299, 120, 2, 120, 174, 2, 220, 175, 136, 50, 2, 4373, 228, 8255, 2, 2, 656, 245, 2350, 2, 2, 9837, 131, 152, 491, 2, 2, 32, 7464, 1212, 2, 2, 2, 371, 78, 22, 625, 64, 1382, 2, 2, 168, 145, 23, 2, 1690, 2, 2, 2, 1355, 2, 28, 2, 52, 154, 462, 33, 89, 78, 285, 2, 145, 95]),\n",
       "       list([2, 2, 47, 2, 30, 31, 2, 2, 249, 108, 2, 2, 5974, 54, 61, 369, 2, 71, 149, 2, 22, 112, 2, 2401, 311, 2, 2, 3711, 33, 75, 43, 1829, 296, 2, 86, 320, 35, 534, 2, 263, 4821, 1301, 2, 1873, 33, 89, 78, 2, 66, 2, 2, 360, 2, 2, 58, 316, 334, 2, 2, 1716, 43, 645, 662, 2, 257, 85, 1200, 42, 1228, 2578, 83, 68, 3912, 2, 36, 165, 1539, 278, 36, 69, 2, 780, 2, 106, 2, 6905, 1338, 2, 2, 22, 2, 215, 28, 610, 40, 2, 87, 326, 23, 2300, 21, 23, 22, 2, 272, 40, 57, 31, 2, 2, 22, 47, 2, 2307, 51, 2, 170, 23, 595, 116, 595, 1352, 2, 191, 79, 638, 89, 2, 2, 2, 2, 106, 607, 624, 35, 534, 2, 227, 2, 129, 113]),\n",
       "       ...,\n",
       "       list([2, 2, 2, 230, 245, 6401, 2, 2, 1225, 446, 2, 45, 2174, 84, 8322, 4007, 21, 2, 912, 84, 2, 325, 725, 134, 2, 1715, 84, 2, 36, 28, 57, 1099, 21, 2, 140, 2, 703, 2, 2, 84, 56, 2, 1644, 2, 2, 31, 2, 2, 9406, 1209, 2295, 2, 1008, 2, 2, 20, 207, 110, 563, 2, 2, 2901, 2, 2, 97, 2, 20, 53, 4767, 74, 2, 460, 364, 1273, 29, 270, 2, 960, 108, 45, 40, 29, 2961, 395, 2, 2, 4065, 500, 2, 2, 89, 364, 70, 29, 140, 2, 64, 4780, 2, 2, 2678, 26, 178, 2, 529, 443, 2, 2, 27, 710, 117, 2, 8123, 165, 47, 84, 37, 131, 818, 2, 595, 2, 2, 61, 1242, 1209, 2, 2, 288, 2260, 1702, 34, 2901, 2, 2, 65, 496, 2, 231, 2, 790, 2, 2, 320, 234, 2766, 234, 1119, 1574, 2, 496, 2, 139, 929, 2901, 2, 7750, 2, 4241, 2, 2, 8497, 2, 250, 2, 1818, 7561, 2, 4217, 5408, 747, 1115, 372, 1890, 1006, 541, 9303, 2, 2, 59, 2, 2, 3586, 2]),\n",
       "       list([2, 1446, 7079, 69, 72, 3305, 2, 610, 930, 2, 2, 582, 23, 2, 2, 484, 685, 54, 349, 2, 4120, 2959, 45, 58, 1466, 2, 197, 2, 2, 43, 23, 2, 2, 62, 30, 145, 402, 2, 4131, 51, 575, 32, 61, 369, 71, 66, 770, 2, 1054, 75, 100, 2198, 2, 2, 105, 37, 69, 147, 712, 75, 3543, 44, 257, 390, 2, 69, 263, 514, 105, 50, 286, 1814, 23, 2, 123, 2, 161, 40, 2, 421, 2, 116, 2, 897, 2, 2, 40, 319, 5872, 112, 6700, 2, 4803, 121, 25, 70, 3468, 2, 719, 3798, 2, 2, 31, 62, 40, 2, 7200, 2, 2, 2, 2, 123, 2, 942, 25, 2, 721, 2, 145, 2, 202, 2, 160, 580, 202, 2, 2, 52, 58, 2, 92, 401, 728, 2, 39, 2, 251, 2, 2, 251, 2, 2, 2, 38, 84, 80, 124, 2, 2, 23]),\n",
       "       list([2, 2, 2, 194, 337, 2, 2, 204, 22, 45, 254, 2, 106, 2, 123, 2, 2, 270, 2, 2, 2, 2, 732, 2098, 101, 405, 39, 2, 1034, 2, 1310, 2, 115, 50, 305, 2, 47, 2, 168, 2, 235, 2, 38, 111, 699, 102, 2, 2, 4039, 9245, 2, 24, 2, 78, 1099, 2, 2345, 2, 21, 27, 9685, 6139, 2, 2, 1603, 92, 1183, 2, 1310, 2, 2, 204, 42, 97, 90, 35, 221, 109, 29, 127, 27, 118, 2, 97, 2, 157, 21, 6789, 2, 2, 2, 66, 78, 1099, 2, 631, 1191, 2, 2642, 272, 191, 1070, 2, 7585, 2, 2197, 2, 2, 544, 2, 383, 1271, 848, 1468, 2, 497, 2, 2, 1597, 8778, 2, 21, 60, 27, 239, 2, 43, 8368, 209, 405, 2, 2, 2, 764, 40, 2, 248, 20, 2, 2, 2, 174, 1791, 72, 2, 51, 2, 1739, 22, 2, 204, 131, 2])],\n",
       "      dtype=object)"
      ]
     },
     "execution_count": 4,
     "metadata": {},
     "output_type": "execute_result"
    }
   ],
   "source": [
    "X_train"
   ]
  },
  {
   "cell_type": "code",
   "execution_count": 5,
   "metadata": {},
   "outputs": [
    {
     "data": {
      "text/plain": [
       "array([1, 0, 0, ..., 0, 1, 0], dtype=int64)"
      ]
     },
     "execution_count": 5,
     "metadata": {},
     "output_type": "execute_result"
    }
   ],
   "source": [
    "y_train"
   ]
  },
  {
   "cell_type": "code",
   "execution_count": 6,
   "metadata": {},
   "outputs": [
    {
     "data": {
      "image/png": "[encoded data removed]",
      "text/plain": [
       "<Figure size 432x288 with 1 Axes>"
      ]
     },
     "metadata": {
      "needs_background": "light"
     },
     "output_type": "display_data"
    }
   ],
   "source": [
    "\n",
    "lengths = []\n",
    "\n",
    "for rowid in range(len(X_train)):\n",
    "  lengths.append(len(X_train[rowid]))\n",
    "\n",
    "lengths = np.array(lengths)\n",
    "\n",
    "plt.hist(lengths)\n",
    "plt.ylabel(\"Frequency\")\n",
    "plt.xlabel(\"# Words in Review\")\n",
    "plt.grid()\n",
    "plt.show()"
   ]
  },
  {
   "cell_type": "code",
   "execution_count": 7,
   "metadata": {},
   "outputs": [
    {
     "data": {
      "text/plain": [
       "array([130., 178., 291., 467.])"
      ]
     },
     "execution_count": 7,
     "metadata": {},
     "output_type": "execute_result"
    }
   ],
   "source": [
    "np.quantile(lengths, [0.25, 0.5, 0.75, 0.9])"
   ]
  },
  {
   "cell_type": "code",
   "execution_count": 8,
   "metadata": {},
   "outputs": [],
   "source": [
    "maxlen = 178 #50% reviews have atmost 178 words\n",
    "num_classes = 2  # For binary classification\n",
    "\n",
    "# Pad sequences to ensure consistent length\n",
    "X_train = pad_sequences(X_train, maxlen=maxlen)\n",
    "X_test = pad_sequences(X_test, maxlen=maxlen)\n",
    "\n",
    "y_train = to_categorical(y_train, num_classes=num_classes)\n",
    "y_test = to_categorical(y_test, num_classes=num_classes)\n",
    "\n"
   ]
  },
  {
   "cell_type": "markdown",
   "metadata": {},
   "source": [
    "#### Model Building"
   ]
  },
  {
   "cell_type": "code",
   "execution_count": 9,
   "metadata": {},
   "outputs": [
    {
     "name": "stdout",
     "output_type": "stream",
     "text": [
      "WARNING:tensorflow:From e:\\Apps\\Anaconda\\envs\\directml\\lib\\site-packages\\tensorflow_core\\python\\keras\\initializers.py:119: calling RandomUniform.__init__ (from tensorflow.python.ops.init_ops) with dtype is deprecated and will be removed in a future version.\n",
      "Instructions for updating:\n",
      "Call initializer instance with the dtype argument instead of passing it to the constructor\n",
      "WARNING:tensorflow:From e:\\Apps\\Anaconda\\envs\\directml\\lib\\site-packages\\tensorflow_core\\python\\ops\\resource_variable_ops.py:1630: calling BaseResourceVariable.__init__ (from tensorflow.python.ops.resource_variable_ops) with constraint is deprecated and will be removed in a future version.\n",
      "Instructions for updating:\n",
      "If using Keras pass *_constraint arguments to layers.\n",
      "WARNING:tensorflow:From e:\\Apps\\Anaconda\\envs\\directml\\lib\\site-packages\\tensorflow_core\\python\\ops\\nn_impl.py:183: where (from tensorflow.python.ops.array_ops) is deprecated and will be removed in a future version.\n",
      "Instructions for updating:\n",
      "Use tf.where in 2.0, which has the same broadcast rule as np.where\n",
      "Train on 25000 samples, validate on 25000 samples\n",
      "Epoch 1/20\n",
      "25000/25000 [==============================] - 28s 1ms/sample - loss: 0.6912 - acc: 0.5275 - val_loss: 0.6855 - val_acc: 0.5631\n",
      "Epoch 2/20\n",
      "25000/25000 [==============================] - 26s 1ms/sample - loss: 0.6280 - acc: 0.6691 - val_loss: 0.4829 - val_acc: 0.7825\n",
      "Epoch 3/20\n",
      "25000/25000 [==============================] - 26s 1ms/sample - loss: 0.3851 - acc: 0.8395 - val_loss: 0.3700 - val_acc: 0.8423\n",
      "Epoch 4/20\n",
      "25000/25000 [==============================] - 26s 1ms/sample - loss: 0.2691 - acc: 0.8970 - val_loss: 0.3568 - val_acc: 0.8515\n",
      "Epoch 5/20\n",
      "25000/25000 [==============================] - 26s 1ms/sample - loss: 0.2129 - acc: 0.9226 - val_loss: 0.3680 - val_acc: 0.8443\n",
      "Epoch 6/20\n",
      "25000/25000 [==============================] - 26s 1ms/sample - loss: 0.1578 - acc: 0.9480 - val_loss: 0.3936 - val_acc: 0.8431\n",
      "Epoch 7/20\n",
      "25000/25000 [==============================] - 26s 1ms/sample - loss: 0.1114 - acc: 0.9668 - val_loss: 0.4148 - val_acc: 0.8362\n",
      "Epoch 8/20\n",
      "25000/25000 [==============================] - 26s 1ms/sample - loss: 0.0803 - acc: 0.9785 - val_loss: 0.4519 - val_acc: 0.8385\n",
      "Epoch 9/20\n",
      "25000/25000 [==============================] - 26s 1ms/sample - loss: 0.0636 - acc: 0.9833 - val_loss: 0.4804 - val_acc: 0.8417\n",
      "Epoch 10/20\n",
      "25000/25000 [==============================] - 27s 1ms/sample - loss: 0.0441 - acc: 0.9902 - val_loss: 0.5027 - val_acc: 0.8388\n",
      "Epoch 11/20\n",
      "25000/25000 [==============================] - 26s 1ms/sample - loss: 0.0301 - acc: 0.9938 - val_loss: 0.5527 - val_acc: 0.8175\n",
      "Epoch 12/20\n",
      "25000/25000 [==============================] - 26s 1ms/sample - loss: 0.0436 - acc: 0.9876 - val_loss: 0.5590 - val_acc: 0.8356\n",
      "Epoch 13/20\n",
      "25000/25000 [==============================] - 27s 1ms/sample - loss: 0.0202 - acc: 0.9961 - val_loss: 0.5737 - val_acc: 0.8344\n",
      "Epoch 14/20\n",
      "25000/25000 [==============================] - 27s 1ms/sample - loss: 0.0184 - acc: 0.9964 - val_loss: 0.6062 - val_acc: 0.8335\n"
     ]
    },
    {
     "data": {
      "text/plain": [
       "<tensorflow.python.keras.callbacks.History at 0x18ebda2a9e8>"
      ]
     },
     "execution_count": 9,
     "metadata": {},
     "output_type": "execute_result"
    }
   ],
   "source": [
    "model = Sequential()\n",
    "\n",
    "# Embedding layer\n",
    "model.add(Embedding(input_dim = 10000, output_dim=15))\n",
    "\n",
    "# SimpleRNN layer\n",
    "model.add(SimpleRNN(units=32, return_sequences=False))\n",
    "\n",
    "# Dense output layer\n",
    "model.add(Dense(num_classes, activation=\"sigmoid\"))\n",
    "\n",
    "# Compile the model\n",
    "model.compile(loss=\"binary_crossentropy\",\n",
    "                 optimizer=Adam(learning_rate = 0.0005), \n",
    "                 metrics=[\"accuracy\"])\n",
    "\n",
    "# Early stopping to prevent overfitting\n",
    "early_stopping = EarlyStopping(monitor='val_acc', patience=10, restore_best_weights=True)\n",
    "\n",
    "# Train the model with validation split\n",
    "model.fit(X_train, y_train, batch_size=128, epochs=20, validation_data=(X_test, y_test), callbacks=[early_stopping])"
   ]
  },
  {
   "cell_type": "code",
   "execution_count": 10,
   "metadata": {},
   "outputs": [
    {
     "name": "stdout",
     "output_type": "stream",
     "text": [
      "25000/25000 [==============================] - 8s 310us/sample - loss: 0.3568 - acc: 0.8515\n",
      "Final Validation Accuracy: 0.8515 and Final Validation Loss: 0.3568\n"
     ]
    }
   ],
   "source": [
    "# Evaluate model on validation set\n",
    "loss, accuracy = model.evaluate(X_test, y_test)\n",
    "print('Final Validation Accuracy:', round(accuracy,4), 'and Final Validation Loss:', round(loss,4))"
   ]
  },
  {
   "cell_type": "code",
   "execution_count": 11,
   "metadata": {},
   "outputs": [],
   "source": [
    "# Saving the model\n",
    "model.save('IMDB Sentiment Predictor.h5')"
   ]
  }
 ],
 "metadata": {
  "kernelspec": {
   "display_name": "myenv",
   "language": "python",
   "name": "python3"
  },
  "language_info": {
   "codemirror_mode": {
    "name": "ipython",
    "version": 3
   },
   "file_extension": ".py",
   "mimetype": "text/x-python",
   "name": "python",
   "nbconvert_exporter": "python",
   "pygments_lexer": "ipython3",
   "version": "3.6.13"
  }
 },
 "nbformat": 4,
 "nbformat_minor": 2
}
