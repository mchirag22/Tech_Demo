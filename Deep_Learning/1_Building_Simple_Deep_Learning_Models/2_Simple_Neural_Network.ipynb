{
 "cells": [
  {
   "cell_type": "markdown",
   "id": "819fc0cf",
   "metadata": {},
   "source": [
    "# Importing Liberaries"
   ]
  },
  {
   "cell_type": "code",
   "execution_count": 1,
   "id": "c41f5f6b",
   "metadata": {},
   "outputs": [],
   "source": [
    "import warnings\n",
    "warnings.filterwarnings(\"ignore\")\n",
    "\n",
    "import numpy as np\n",
    "import matplotlib.pyplot as plt\n",
    "from sklearn.preprocessing import MinMaxScaler\n",
    "\n",
    "\n",
    "from tensorflow.keras.datasets import mnist\n",
    "from tensorflow.keras.utils import to_categorical\n",
    "from tensorflow.keras.models import Sequential\n",
    "from tensorflow.keras.layers import Input, Dense, Dropout\n",
    "from tensorflow.keras.layers import BatchNormalization\n",
    "from tensorflow.keras.optimizers import Adadelta"
   ]
  },
  {
   "cell_type": "markdown",
   "id": "e099bc4d",
   "metadata": {},
   "source": [
    "# Data Pre-Processing"
   ]
  },
  {
   "cell_type": "code",
   "execution_count": 2,
   "id": "9b822eac",
   "metadata": {},
   "outputs": [],
   "source": [
    "# Loading MNIST Data\n",
    "(x_train, y_train), (x_test, y_test) = mnist.load_data()"
   ]
  },
  {
   "cell_type": "code",
   "execution_count": 3,
   "id": "5e1df585",
   "metadata": {},
   "outputs": [
    {
     "data": {
      "text/plain": [
       "(60000, 28, 28)"
      ]
     },
     "execution_count": 3,
     "metadata": {},
     "output_type": "execute_result"
    }
   ],
   "source": [
    "x_train.shape"
   ]
  },
  {
   "cell_type": "code",
   "execution_count": 4,
   "id": "98a214a2",
   "metadata": {},
   "outputs": [
    {
     "data": {
      "text/plain": [
       "numpy.ndarray"
      ]
     },
     "execution_count": 4,
     "metadata": {},
     "output_type": "execute_result"
    }
   ],
   "source": [
    "type(x_train)"
   ]
  },
  {
   "cell_type": "code",
   "execution_count": 5,
   "id": "5c7730f3",
   "metadata": {},
   "outputs": [
    {
     "name": "stdout",
     "output_type": "stream",
     "text": [
      "(60000, 28, 28)\n",
      "(10000, 28, 28)\n",
      "(60000,)\n",
      "(10000,)\n"
     ]
    }
   ],
   "source": [
    "print(x_train.shape)\n",
    "print(x_test.shape)\n",
    "print(y_train.shape)\n",
    "print(y_test.shape)"
   ]
  },
  {
   "cell_type": "code",
   "execution_count": 6,
   "id": "f71df702",
   "metadata": {},
   "outputs": [],
   "source": [
    "# Changing the shape of data to make every pixel value a feature for the model (28*28=784)\n",
    "x_train_flat = x_train.reshape(60000, 784)\n",
    "x_test_flat = x_test.reshape(10000, 784)"
   ]
  },
  {
   "cell_type": "code",
   "execution_count": 7,
   "id": "6ab2d825",
   "metadata": {},
   "outputs": [],
   "source": [
    "# Changing labels into one hot endoding, for better categorization in the model\n",
    "y_train_ohe = to_categorical(y_train)\n",
    "y_test_ohe = to_categorical(y_test)"
   ]
  },
  {
   "cell_type": "code",
   "execution_count": 8,
   "id": "82c12538",
   "metadata": {},
   "outputs": [],
   "source": [
    "# Normalizing pixel data for better computability\n",
    "scaler = MinMaxScaler()\n",
    "x_train_flat_scaled = scaler.fit_transform(x_train_flat)\n",
    "x_test_flat_scaled = scaler.fit_transform(x_test_flat)"
   ]
  },
  {
   "cell_type": "code",
   "execution_count": 9,
   "id": "2b8f4ee7",
   "metadata": {},
   "outputs": [
    {
     "name": "stdout",
     "output_type": "stream",
     "text": [
      "(60000, 784)\n",
      "(10000, 784)\n",
      "(60000, 10)\n",
      "(10000, 10)\n"
     ]
    }
   ],
   "source": [
    "print(x_train_flat_scaled.shape)\n",
    "print(x_test_flat_scaled.shape)\n",
    "print(y_train_ohe.shape)\n",
    "print(y_test_ohe.shape)"
   ]
  },
  {
   "cell_type": "code",
   "execution_count": 10,
   "id": "d805aef1",
   "metadata": {},
   "outputs": [
    {
     "name": "stdout",
     "output_type": "stream",
     "text": [
      "0\n",
      "[1. 0. 0. 0. 0. 0. 0. 0. 0. 0.]\n"
     ]
    }
   ],
   "source": [
    "print(y_train[210])\n",
    "print(y_train_ohe[210])"
   ]
  },
  {
   "cell_type": "code",
   "execution_count": 11,
   "id": "0d19c2d7",
   "metadata": {},
   "outputs": [
    {
     "name": "stdout",
     "output_type": "stream",
     "text": [
      "[5 0 4 ... 5 6 8]\n",
      "(60000,)\n"
     ]
    }
   ],
   "source": [
    "print(y_train)\n",
    "print(y_train.shape)"
   ]
  },
  {
   "cell_type": "code",
   "execution_count": 12,
   "id": "a4b7f652",
   "metadata": {},
   "outputs": [
    {
     "data": {
      "image/png": "[encoded data removed]",
      "text/plain": [
       "<Figure size 432x288 with 1 Axes>"
      ]
     },
     "metadata": {
      "needs_background": "light"
     },
     "output_type": "display_data"
    }
   ],
   "source": [
    "plt.imshow(x_train[0], cmap=\"gray\")\n",
    "plt.show()"
   ]
  },
  {
   "cell_type": "markdown",
   "id": "3b32c1d0",
   "metadata": {},
   "source": [
    "# Model Building"
   ]
  },
  {
   "cell_type": "code",
   "execution_count": 13,
   "id": "815da494",
   "metadata": {},
   "outputs": [
    {
     "name": "stdout",
     "output_type": "stream",
     "text": [
      "WARNING:tensorflow:From e:\\Apps\\Anaconda\\envs\\directml\\lib\\site-packages\\tensorflow_core\\python\\ops\\resource_variable_ops.py:1630: calling BaseResourceVariable.__init__ (from tensorflow.python.ops.resource_variable_ops) with constraint is deprecated and will be removed in a future version.\n",
      "Instructions for updating:\n",
      "If using Keras pass *_constraint arguments to layers.\n"
     ]
    }
   ],
   "source": [
    "model = Sequential() # Initializes a new Keras Sequential model\n",
    "model.add(Input(shape=(784,))) # Add input layer that accepts 784 input values\n",
    "model.add(Dense(units=100,)) # Add 1st hidden layer with 100 neurons\n",
    "model.add(Dense(units=100,activation=\"relu\")) # Add 2nd hidden layer with 100 neurons and relu activation\n",
    "model.add(Dropout(0.1)) # Add a dropout layer with a dropout rate of 10% \n",
    "model.add(BatchNormalization()) # Add a batch normalization layer\n",
    "model.add(Dense(units=10, activation = \"softmax\")) # Add output layer that outputs 10 output values with softmax activation"
   ]
  },
  {
   "cell_type": "code",
   "execution_count": 14,
   "id": "fb12e3ef",
   "metadata": {},
   "outputs": [],
   "source": [
    "# Model Compilation\n",
    "model.compile(optimizer=Adadelta(learning_rate=0.05),\n",
    "              loss=\"categorical_crossentropy\",\n",
    "              metrics=[\"accuracy\"])"
   ]
  },
  {
   "cell_type": "code",
   "execution_count": 15,
   "id": "6da68d1e",
   "metadata": {
    "scrolled": false
   },
   "outputs": [
    {
     "name": "stdout",
     "output_type": "stream",
     "text": [
      "Train on 60000 samples, validate on 10000 samples\n",
      "Epoch 1/50\n",
      "60000/60000 [==============================] - 2s 27us/sample - loss: 0.9424 - acc: 0.7180 - val_loss: 0.4117 - val_acc: 0.8888\n",
      "Epoch 2/50\n",
      "60000/60000 [==============================] - 1s 21us/sample - loss: 0.4046 - acc: 0.8898 - val_loss: 0.2944 - val_acc: 0.9202\n",
      "Epoch 3/50\n",
      "60000/60000 [==============================] - 1s 21us/sample - loss: 0.3184 - acc: 0.9123 - val_loss: 0.2465 - val_acc: 0.9317\n",
      "Epoch 4/50\n",
      "60000/60000 [==============================] - 1s 21us/sample - loss: 0.2727 - acc: 0.9249 - val_loss: 0.2189 - val_acc: 0.9387\n",
      "Epoch 5/50\n",
      "60000/60000 [==============================] - 1s 20us/sample - loss: 0.2445 - acc: 0.9318 - val_loss: 0.2000 - val_acc: 0.9439\n",
      "Epoch 6/50\n",
      "60000/60000 [==============================] - 1s 21us/sample - loss: 0.2220 - acc: 0.9386 - val_loss: 0.1855 - val_acc: 0.9490\n",
      "Epoch 7/50\n",
      "60000/60000 [==============================] - 1s 20us/sample - loss: 0.2057 - acc: 0.9427 - val_loss: 0.1755 - val_acc: 0.9510\n",
      "Epoch 8/50\n",
      "60000/60000 [==============================] - 1s 20us/sample - loss: 0.1940 - acc: 0.9470 - val_loss: 0.1652 - val_acc: 0.9525\n",
      "Epoch 9/50\n",
      "60000/60000 [==============================] - 1s 21us/sample - loss: 0.1827 - acc: 0.9491 - val_loss: 0.1559 - val_acc: 0.9570\n",
      "Epoch 10/50\n",
      "60000/60000 [==============================] - 1s 20us/sample - loss: 0.1726 - acc: 0.9520 - val_loss: 0.1501 - val_acc: 0.9572\n",
      "Epoch 11/50\n",
      "60000/60000 [==============================] - 1s 21us/sample - loss: 0.1649 - acc: 0.9529 - val_loss: 0.1439 - val_acc: 0.9598\n",
      "Epoch 12/50\n",
      "60000/60000 [==============================] - 1s 21us/sample - loss: 0.1571 - acc: 0.9564 - val_loss: 0.1391 - val_acc: 0.9605\n",
      "Epoch 13/50\n",
      "60000/60000 [==============================] - 1s 20us/sample - loss: 0.1501 - acc: 0.9578 - val_loss: 0.1330 - val_acc: 0.9619\n",
      "Epoch 14/50\n",
      "60000/60000 [==============================] - 1s 21us/sample - loss: 0.1440 - acc: 0.9594 - val_loss: 0.1302 - val_acc: 0.9621\n",
      "Epoch 15/50\n",
      "60000/60000 [==============================] - 1s 20us/sample - loss: 0.1394 - acc: 0.9610 - val_loss: 0.1273 - val_acc: 0.9635\n",
      "Epoch 16/50\n",
      "60000/60000 [==============================] - 1s 21us/sample - loss: 0.1326 - acc: 0.9630 - val_loss: 0.1245 - val_acc: 0.9643\n",
      "Epoch 17/50\n",
      "60000/60000 [==============================] - 1s 20us/sample - loss: 0.1277 - acc: 0.9638 - val_loss: 0.1223 - val_acc: 0.9640\n",
      "Epoch 18/50\n",
      "60000/60000 [==============================] - 1s 21us/sample - loss: 0.1260 - acc: 0.9650 - val_loss: 0.1183 - val_acc: 0.9649\n",
      "Epoch 19/50\n",
      "60000/60000 [==============================] - 1s 20us/sample - loss: 0.1212 - acc: 0.9660 - val_loss: 0.1160 - val_acc: 0.9672\n",
      "Epoch 20/50\n",
      "60000/60000 [==============================] - 1s 20us/sample - loss: 0.1168 - acc: 0.9672 - val_loss: 0.1127 - val_acc: 0.9669\n",
      "Epoch 21/50\n",
      "60000/60000 [==============================] - 1s 21us/sample - loss: 0.1147 - acc: 0.9667 - val_loss: 0.1111 - val_acc: 0.9669\n",
      "Epoch 22/50\n",
      "60000/60000 [==============================] - 1s 20us/sample - loss: 0.1112 - acc: 0.9685 - val_loss: 0.1102 - val_acc: 0.9675\n",
      "Epoch 23/50\n",
      "60000/60000 [==============================] - 1s 21us/sample - loss: 0.1084 - acc: 0.9687 - val_loss: 0.1074 - val_acc: 0.9679\n",
      "Epoch 24/50\n",
      "60000/60000 [==============================] - 1s 20us/sample - loss: 0.1050 - acc: 0.9701 - val_loss: 0.1051 - val_acc: 0.9690\n",
      "Epoch 25/50\n",
      "60000/60000 [==============================] - 1s 20us/sample - loss: 0.1020 - acc: 0.9701 - val_loss: 0.1039 - val_acc: 0.9691\n",
      "Epoch 26/50\n",
      "60000/60000 [==============================] - 1s 21us/sample - loss: 0.0988 - acc: 0.9721 - val_loss: 0.1015 - val_acc: 0.9701\n",
      "Epoch 27/50\n",
      "60000/60000 [==============================] - 1s 20us/sample - loss: 0.0973 - acc: 0.9723 - val_loss: 0.1020 - val_acc: 0.9705\n",
      "Epoch 28/50\n",
      "60000/60000 [==============================] - 1s 21us/sample - loss: 0.0941 - acc: 0.9729 - val_loss: 0.1007 - val_acc: 0.9704\n",
      "Epoch 29/50\n",
      "60000/60000 [==============================] - 1s 20us/sample - loss: 0.0928 - acc: 0.9736 - val_loss: 0.0993 - val_acc: 0.9712\n",
      "Epoch 30/50\n",
      "60000/60000 [==============================] - 1s 20us/sample - loss: 0.0903 - acc: 0.9740 - val_loss: 0.0981 - val_acc: 0.9707\n",
      "Epoch 31/50\n",
      "60000/60000 [==============================] - 1s 21us/sample - loss: 0.0883 - acc: 0.9745 - val_loss: 0.0971 - val_acc: 0.9709\n",
      "Epoch 32/50\n",
      "60000/60000 [==============================] - 1s 20us/sample - loss: 0.0871 - acc: 0.9747 - val_loss: 0.0958 - val_acc: 0.9714\n",
      "Epoch 33/50\n",
      "60000/60000 [==============================] - 1s 21us/sample - loss: 0.0853 - acc: 0.9747 - val_loss: 0.0947 - val_acc: 0.9716\n",
      "Epoch 34/50\n",
      "60000/60000 [==============================] - 1s 20us/sample - loss: 0.0835 - acc: 0.9760 - val_loss: 0.0945 - val_acc: 0.9714\n",
      "Epoch 35/50\n",
      "60000/60000 [==============================] - 1s 21us/sample - loss: 0.0808 - acc: 0.9771 - val_loss: 0.0925 - val_acc: 0.9727\n",
      "Epoch 36/50\n",
      "60000/60000 [==============================] - 1s 21us/sample - loss: 0.0810 - acc: 0.9767 - val_loss: 0.0917 - val_acc: 0.9716\n",
      "Epoch 37/50\n",
      "60000/60000 [==============================] - 1s 21us/sample - loss: 0.0792 - acc: 0.9774 - val_loss: 0.0920 - val_acc: 0.9722\n",
      "Epoch 38/50\n",
      "60000/60000 [==============================] - 1s 20us/sample - loss: 0.0771 - acc: 0.9776 - val_loss: 0.0907 - val_acc: 0.9720\n",
      "Epoch 39/50\n",
      "60000/60000 [==============================] - 1s 20us/sample - loss: 0.0755 - acc: 0.9784 - val_loss: 0.0898 - val_acc: 0.9727\n",
      "Epoch 40/50\n",
      "60000/60000 [==============================] - 2s 26us/sample - loss: 0.0739 - acc: 0.9789 - val_loss: 0.0899 - val_acc: 0.9726\n",
      "Epoch 41/50\n",
      "60000/60000 [==============================] - 1s 22us/sample - loss: 0.0717 - acc: 0.9790 - val_loss: 0.0890 - val_acc: 0.9732\n",
      "Epoch 42/50\n",
      "60000/60000 [==============================] - 1s 21us/sample - loss: 0.0728 - acc: 0.9787 - val_loss: 0.0889 - val_acc: 0.9734\n",
      "Epoch 43/50\n",
      "60000/60000 [==============================] - 1s 21us/sample - loss: 0.0697 - acc: 0.9800 - val_loss: 0.0889 - val_acc: 0.9727\n",
      "Epoch 44/50\n",
      "60000/60000 [==============================] - 1s 22us/sample - loss: 0.0690 - acc: 0.9803 - val_loss: 0.0871 - val_acc: 0.9737\n",
      "Epoch 45/50\n",
      "60000/60000 [==============================] - 1s 21us/sample - loss: 0.0684 - acc: 0.9801 - val_loss: 0.0883 - val_acc: 0.9735\n",
      "Epoch 46/50\n",
      "60000/60000 [==============================] - 1s 21us/sample - loss: 0.0670 - acc: 0.9805 - val_loss: 0.0876 - val_acc: 0.9733\n",
      "Epoch 47/50\n",
      "60000/60000 [==============================] - 1s 22us/sample - loss: 0.0662 - acc: 0.9810 - val_loss: 0.0861 - val_acc: 0.9734\n",
      "Epoch 48/50\n",
      "60000/60000 [==============================] - 1s 22us/sample - loss: 0.0643 - acc: 0.9813 - val_loss: 0.0859 - val_acc: 0.9737\n",
      "Epoch 49/50\n",
      "60000/60000 [==============================] - 1s 22us/sample - loss: 0.0645 - acc: 0.9819 - val_loss: 0.0865 - val_acc: 0.9732\n",
      "Epoch 50/50\n",
      "60000/60000 [==============================] - 1s 23us/sample - loss: 0.0637 - acc: 0.9811 - val_loss: 0.0865 - val_acc: 0.9732\n"
     ]
    },
    {
     "data": {
      "text/plain": [
       "<tensorflow.python.keras.callbacks.History at 0x26e2871cdd8>"
      ]
     },
     "execution_count": 15,
     "metadata": {},
     "output_type": "execute_result"
    }
   ],
   "source": [
    "# Model Fitting\n",
    "model.fit(x=x_train_flat_scaled, \n",
    "          y=y_train_ohe, \n",
    "          epochs=50, \n",
    "          validation_data=(x_test_flat_scaled, y_test_ohe), \n",
    "          batch_size=100)"
   ]
  },
  {
   "cell_type": "code",
   "execution_count": 16,
   "id": "78fe8a13",
   "metadata": {},
   "outputs": [
    {
     "data": {
      "image/png": "[encoded data removed]",
      "text/plain": [
       "<Figure size 432x288 with 1 Axes>"
      ]
     },
     "metadata": {
      "needs_background": "light"
     },
     "output_type": "display_data"
    }
   ],
   "source": [
    "# Plotting loss changes over epochs\n",
    "history = model.history.history\n",
    "\n",
    "train_loss= history[\"loss\"]\n",
    "val_loss= history[\"val_loss\"]\n",
    "\n",
    "plt.plot(train_loss)\n",
    "plt.plot(val_loss)\n",
    "plt.legend([\"Train\", \"Validation\"])\n",
    "plt.xlabel(\"Epochs\")\n",
    "plt.ylabel(\"Loss\")\n",
    "plt.grid()\n",
    "plt.show()"
   ]
  },
  {
   "cell_type": "code",
   "execution_count": 17,
   "id": "89cd09d1",
   "metadata": {},
   "outputs": [
    {
     "data": {
      "image/png": "[encoded data removed]",
      "text/plain": [
       "<Figure size 432x288 with 1 Axes>"
      ]
     },
     "metadata": {
      "needs_background": "light"
     },
     "output_type": "display_data"
    }
   ],
   "source": [
    "# Plotting accuracy changes over epochs\n",
    "train_acc= history[\"acc\"]\n",
    "val_acc= history[\"val_acc\"]\n",
    "\n",
    "plt.plot(train_acc)\n",
    "plt.plot(val_acc)\n",
    "plt.ylim(0.6,1)\n",
    "plt.legend([\"Train\", \"Validation\"])\n",
    "plt.xlabel(\"Epochs\")\n",
    "plt.ylabel(\"Accuracy\")\n",
    "plt.grid()\n",
    "plt.show()"
   ]
  },
  {
   "cell_type": "code",
   "execution_count": 18,
   "id": "9a837303",
   "metadata": {},
   "outputs": [
    {
     "name": "stdout",
     "output_type": "stream",
     "text": [
      "Model: \"sequential\"\n",
      "_________________________________________________________________\n",
      "Layer (type)                 Output Shape              Param #   \n",
      "=================================================================\n",
      "dense (Dense)                (None, 100)               78500     \n",
      "_________________________________________________________________\n",
      "dense_1 (Dense)              (None, 100)               10100     \n",
      "_________________________________________________________________\n",
      "dropout (Dropout)            (None, 100)               0         \n",
      "_________________________________________________________________\n",
      "batch_normalization (BatchNo (None, 100)               400       \n",
      "_________________________________________________________________\n",
      "dense_2 (Dense)              (None, 10)                1010      \n",
      "=================================================================\n",
      "Total params: 90,010\n",
      "Trainable params: 89,810\n",
      "Non-trainable params: 200\n",
      "_________________________________________________________________\n"
     ]
    }
   ],
   "source": [
    "model.summary()"
   ]
  },
  {
   "cell_type": "markdown",
   "id": "73e23a12",
   "metadata": {},
   "source": [
    "# Model Prediction"
   ]
  },
  {
   "cell_type": "code",
   "execution_count": 19,
   "id": "fa697696",
   "metadata": {},
   "outputs": [
    {
     "data": {
      "image/png": "[encoded data removed]",
      "text/plain": [
       "<Figure size 432x288 with 1 Axes>"
      ]
     },
     "metadata": {
      "needs_background": "light"
     },
     "output_type": "display_data"
    }
   ],
   "source": [
    "plt.imshow(x_test[153], cmap=\"gray\")\n",
    "plt.show()"
   ]
  },
  {
   "cell_type": "code",
   "execution_count": 20,
   "id": "101f4bb2",
   "metadata": {},
   "outputs": [],
   "source": [
    "preds = model.predict(x_test_flat)"
   ]
  },
  {
   "cell_type": "code",
   "execution_count": 21,
   "id": "afeae4d9",
   "metadata": {},
   "outputs": [
    {
     "data": {
      "text/plain": [
       "(10000, 10)"
      ]
     },
     "execution_count": 21,
     "metadata": {},
     "output_type": "execute_result"
    }
   ],
   "source": [
    "preds.shape"
   ]
  },
  {
   "cell_type": "code",
   "execution_count": 22,
   "id": "36235a95",
   "metadata": {},
   "outputs": [
    {
     "name": "stdout",
     "output_type": "stream",
     "text": [
      "[0. 0. 0. 0. 0. 1. 0. 0. 0. 0.]\n",
      "The number in the picture is 5\n"
     ]
    }
   ],
   "source": [
    "print(preds[153])\n",
    "print(\"The number in the picture is\",np.argmax(preds[153]))"
   ]
  }
 ],
 "metadata": {
  "kernelspec": {
   "display_name": "directml",
   "language": "python",
   "name": "python3"
  },
  "language_info": {
   "codemirror_mode": {
    "name": "ipython",
    "version": 3
   },
   "file_extension": ".py",
   "mimetype": "text/x-python",
   "name": "python",
   "nbconvert_exporter": "python",
   "pygments_lexer": "ipython3",
   "version": "3.6.13"
  }
 },
 "nbformat": 4,
 "nbformat_minor": 5
}
