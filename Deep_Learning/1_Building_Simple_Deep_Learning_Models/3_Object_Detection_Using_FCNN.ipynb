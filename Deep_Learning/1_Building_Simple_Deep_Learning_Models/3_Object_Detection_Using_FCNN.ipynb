{
 "cells": [
  {
   "cell_type": "markdown",
   "id": "374eee38",
   "metadata": {},
   "source": [
    "# Importing Liberaries"
   ]
  },
  {
   "cell_type": "code",
   "execution_count": 1,
   "id": "5cca4b15",
   "metadata": {},
   "outputs": [],
   "source": [
    "import warnings\n",
    "warnings.filterwarnings(\"ignore\")\n",
    "\n",
    "from tensorflow.keras.datasets import fashion_mnist\n",
    "import matplotlib.pyplot as plt\n",
    "from tensorflow.keras.utils import to_categorical\n",
    "import numpy as np\n",
    "\n",
    "from tensorflow import set_random_seed\n",
    "from tensorflow.keras.models import Sequential\n",
    "from tensorflow.keras.layers import Input, Dense, Dropout, Activation, BatchNormalization\n",
    "from tensorflow.keras.optimizers import SGD\n",
    "from tensorflow.keras.callbacks import LearningRateScheduler, EarlyStopping"
   ]
  },
  {
   "cell_type": "markdown",
   "id": "99673876",
   "metadata": {},
   "source": [
    "# Data Pre-Processing"
   ]
  },
  {
   "cell_type": "code",
   "execution_count": 2,
   "id": "461c55e7",
   "metadata": {},
   "outputs": [
    {
     "name": "stdout",
     "output_type": "stream",
     "text": [
      "(60000, 28, 28)\n",
      "(10000, 28, 28)\n",
      "(60000,)\n",
      "(10000,)\n"
     ]
    }
   ],
   "source": [
    "(x_train, y_train), (x_test, y_test) = fashion_mnist.load_data()\n",
    "\n",
    "print(x_train.shape)\n",
    "print(x_test.shape)\n",
    "print(y_train.shape)\n",
    "print(y_test.shape)"
   ]
  },
  {
   "cell_type": "code",
   "execution_count": 3,
   "id": "39e9576d",
   "metadata": {},
   "outputs": [
    {
     "data": {
      "image/png": "[encoded data removed]",
      "text/plain": [
       "<Figure size 432x288 with 1 Axes>"
      ]
     },
     "metadata": {
      "needs_background": "light"
     },
     "output_type": "display_data"
    }
   ],
   "source": [
    "classes = [\"T-shirt/top\",\n",
    "\"Trouser\",\n",
    "\"Pullover\",\n",
    "\"Dress\",\n",
    "\"Coat\",\n",
    "\"Sandal\",\n",
    "\"Shirt\",\n",
    "\"Sneaker\",\n",
    "\"Bag\",\n",
    "\"Ankle boot\"]\n",
    "\n",
    "# Count the occurrences of each class label in the training data\n",
    "class_counts = {}\n",
    "for label in y_train:\n",
    "  if label in class_counts:\n",
    "    class_counts[label] += 1\n",
    "  else:\n",
    "    class_counts[label] = 1\n",
    "\n",
    "# Create a bar chart to visualize the distribution\n",
    "bars = plt.bar(classes, class_counts.values())\n",
    "\n",
    "plt.xlabel(\"Fashion Item\")\n",
    "plt.ylabel(\"Number of Images\")\n",
    "plt.title(\"Distribution of Fashion Items in Fashion MNIST\")\n",
    "plt.xticks(rotation=45)\n",
    "plt.show()"
   ]
  },
  {
   "cell_type": "code",
   "execution_count": 4,
   "id": "07384bca",
   "metadata": {},
   "outputs": [
    {
     "data": {
      "image/png": "[encoded data removed]",
      "text/plain": [
       "<Figure size 432x288 with 1 Axes>"
      ]
     },
     "metadata": {
      "needs_background": "light"
     },
     "output_type": "display_data"
    }
   ],
   "source": [
    "n=200\n",
    "plt.imshow(x_train[n], cmap=\"gray\")\n",
    "plt.title(classes[y_train[n]])\n",
    "plt.show()"
   ]
  },
  {
   "cell_type": "code",
   "execution_count": 5,
   "id": "8729a087",
   "metadata": {},
   "outputs": [],
   "source": [
    "# Reshape\n",
    "x_train = x_train.reshape(60000, 784).astype(\"float32\")\n",
    "x_test = x_test.reshape(10000, 784).astype(\"float32\")\n",
    "\n",
    "# Normalize to range [0, 1]\n",
    "x_train = x_train/255.0\n",
    "x_test = x_test/255.0\n",
    "\n",
    "# One-hot encode labels\n",
    "y_train_ohe = to_categorical(y_train, num_classes=10)\n",
    "y_test_ohe = to_categorical(y_test, num_classes=10)"
   ]
  },
  {
   "cell_type": "markdown",
   "id": "047caa55",
   "metadata": {},
   "source": [
    "# Model Building"
   ]
  },
  {
   "cell_type": "code",
   "execution_count": 6,
   "id": "e1885efb",
   "metadata": {},
   "outputs": [
    {
     "name": "stdout",
     "output_type": "stream",
     "text": [
      "WARNING:tensorflow:From e:\\Apps\\Anaconda\\envs\\directml\\lib\\site-packages\\tensorflow_core\\python\\ops\\resource_variable_ops.py:1630: calling BaseResourceVariable.__init__ (from tensorflow.python.ops.resource_variable_ops) with constraint is deprecated and will be removed in a future version.\n",
      "Instructions for updating:\n",
      "If using Keras pass *_constraint arguments to layers.\n",
      "Train on 60000 samples, validate on 10000 samples\n",
      "Epoch 1/100\n",
      "60000/60000 [==============================] - 0s 7us/sample - loss: 0.6435 - acc: 0.7807 - val_loss: 0.7744 - val_acc: 0.8315\n",
      "Epoch 2/100\n",
      "60000/60000 [==============================] - 0s 5us/sample - loss: 0.4656 - acc: 0.8359 - val_loss: 0.5410 - val_acc: 0.8383\n",
      "Epoch 3/100\n",
      "60000/60000 [==============================] - 0s 5us/sample - loss: 0.4231 - acc: 0.8500 - val_loss: 0.4323 - val_acc: 0.8562\n",
      "Epoch 4/100\n",
      "60000/60000 [==============================] - 0s 5us/sample - loss: 0.3963 - acc: 0.8582 - val_loss: 0.3995 - val_acc: 0.8585\n",
      "Epoch 5/100\n",
      "60000/60000 [==============================] - 0s 5us/sample - loss: 0.3782 - acc: 0.8658 - val_loss: 0.3888 - val_acc: 0.8622\n",
      "Epoch 6/100\n",
      "60000/60000 [==============================] - 0s 5us/sample - loss: 0.3659 - acc: 0.8696 - val_loss: 0.3911 - val_acc: 0.8636\n",
      "Epoch 7/100\n",
      "60000/60000 [==============================] - 0s 5us/sample - loss: 0.3539 - acc: 0.8723 - val_loss: 0.3740 - val_acc: 0.8656\n",
      "Epoch 8/100\n",
      "60000/60000 [==============================] - 0s 5us/sample - loss: 0.3456 - acc: 0.8758 - val_loss: 0.3708 - val_acc: 0.8702\n",
      "Epoch 9/100\n",
      "60000/60000 [==============================] - 0s 5us/sample - loss: 0.3351 - acc: 0.8801 - val_loss: 0.3640 - val_acc: 0.8689\n",
      "Epoch 10/100\n",
      "60000/60000 [==============================] - 0s 5us/sample - loss: 0.3289 - acc: 0.8817 - val_loss: 0.3638 - val_acc: 0.8685\n",
      "Epoch 11/100\n",
      "60000/60000 [==============================] - 0s 5us/sample - loss: 0.3200 - acc: 0.8825 - val_loss: 0.3573 - val_acc: 0.8726\n",
      "Epoch 12/100\n",
      "60000/60000 [==============================] - 0s 5us/sample - loss: 0.3129 - acc: 0.8869 - val_loss: 0.3600 - val_acc: 0.8718\n",
      "Epoch 13/100\n",
      "60000/60000 [==============================] - 0s 5us/sample - loss: 0.2993 - acc: 0.8908 - val_loss: 0.3442 - val_acc: 0.8775\n",
      "Epoch 14/100\n",
      "60000/60000 [==============================] - 0s 5us/sample - loss: 0.2946 - acc: 0.8921 - val_loss: 0.3432 - val_acc: 0.8769\n",
      "Epoch 15/100\n",
      "60000/60000 [==============================] - 0s 5us/sample - loss: 0.2902 - acc: 0.8951 - val_loss: 0.3399 - val_acc: 0.8799\n",
      "Epoch 16/100\n",
      "60000/60000 [==============================] - 0s 5us/sample - loss: 0.2889 - acc: 0.8960 - val_loss: 0.3403 - val_acc: 0.8800\n",
      "Epoch 17/100\n",
      "60000/60000 [==============================] - 0s 5us/sample - loss: 0.2872 - acc: 0.8948 - val_loss: 0.3366 - val_acc: 0.8787\n",
      "Epoch 18/100\n",
      "60000/60000 [==============================] - 0s 5us/sample - loss: 0.2843 - acc: 0.8962 - val_loss: 0.3360 - val_acc: 0.8818\n",
      "Epoch 19/100\n",
      "60000/60000 [==============================] - 0s 5us/sample - loss: 0.2820 - acc: 0.8998 - val_loss: 0.3329 - val_acc: 0.8836\n",
      "Epoch 20/100\n",
      "60000/60000 [==============================] - 0s 5us/sample - loss: 0.2793 - acc: 0.8989 - val_loss: 0.3374 - val_acc: 0.8799\n",
      "Epoch 21/100\n",
      "60000/60000 [==============================] - 0s 5us/sample - loss: 0.2753 - acc: 0.9000 - val_loss: 0.3426 - val_acc: 0.8793\n",
      "Epoch 22/100\n",
      "60000/60000 [==============================] - 0s 5us/sample - loss: 0.2726 - acc: 0.9014 - val_loss: 0.3376 - val_acc: 0.8807\n",
      "Epoch 23/100\n",
      "60000/60000 [==============================] - 0s 5us/sample - loss: 0.2706 - acc: 0.9022 - val_loss: 0.3384 - val_acc: 0.8809\n",
      "Epoch 24/100\n",
      "60000/60000 [==============================] - 0s 5us/sample - loss: 0.2666 - acc: 0.9019 - val_loss: 0.3333 - val_acc: 0.8832\n",
      "Epoch 25/100\n",
      "60000/60000 [==============================] - 0s 5us/sample - loss: 0.2621 - acc: 0.9052 - val_loss: 0.3283 - val_acc: 0.8838\n",
      "Epoch 26/100\n",
      "60000/60000 [==============================] - 0s 5us/sample - loss: 0.2602 - acc: 0.9051 - val_loss: 0.3273 - val_acc: 0.8843\n",
      "Epoch 27/100\n",
      "60000/60000 [==============================] - 0s 5us/sample - loss: 0.2572 - acc: 0.9071 - val_loss: 0.3292 - val_acc: 0.8840\n",
      "Epoch 28/100\n",
      "60000/60000 [==============================] - 0s 5us/sample - loss: 0.2561 - acc: 0.9067 - val_loss: 0.3280 - val_acc: 0.8837\n",
      "Epoch 29/100\n",
      "60000/60000 [==============================] - 0s 5us/sample - loss: 0.2563 - acc: 0.9075 - val_loss: 0.3278 - val_acc: 0.8838\n",
      "Epoch 30/100\n",
      "60000/60000 [==============================] - 0s 5us/sample - loss: 0.2532 - acc: 0.9076 - val_loss: 0.3252 - val_acc: 0.8867\n",
      "Epoch 31/100\n",
      "60000/60000 [==============================] - 0s 5us/sample - loss: 0.2517 - acc: 0.9097 - val_loss: 0.3303 - val_acc: 0.8851\n",
      "Epoch 32/100\n",
      "60000/60000 [==============================] - 0s 5us/sample - loss: 0.2512 - acc: 0.9094 - val_loss: 0.3262 - val_acc: 0.8867\n",
      "Epoch 33/100\n",
      "60000/60000 [==============================] - 0s 5us/sample - loss: 0.2504 - acc: 0.9089 - val_loss: 0.3269 - val_acc: 0.8860\n",
      "Epoch 34/100\n",
      "60000/60000 [==============================] - 0s 5us/sample - loss: 0.2487 - acc: 0.9092 - val_loss: 0.3279 - val_acc: 0.8846\n",
      "Epoch 35/100\n",
      "60000/60000 [==============================] - 0s 5us/sample - loss: 0.2474 - acc: 0.9107 - val_loss: 0.3290 - val_acc: 0.8839\n",
      "Epoch 36/100\n",
      "60000/60000 [==============================] - 0s 5us/sample - loss: 0.2449 - acc: 0.9105 - val_loss: 0.3278 - val_acc: 0.8850\n",
      "Epoch 37/100\n",
      "60000/60000 [==============================] - 0s 5us/sample - loss: 0.2429 - acc: 0.9114 - val_loss: 0.3230 - val_acc: 0.8869\n",
      "Epoch 38/100\n",
      "60000/60000 [==============================] - 0s 5us/sample - loss: 0.2413 - acc: 0.9119 - val_loss: 0.3235 - val_acc: 0.8862\n",
      "Epoch 39/100\n",
      "60000/60000 [==============================] - 0s 5us/sample - loss: 0.2416 - acc: 0.9109 - val_loss: 0.3239 - val_acc: 0.8867\n",
      "Epoch 40/100\n",
      "60000/60000 [==============================] - 0s 5us/sample - loss: 0.2387 - acc: 0.9131 - val_loss: 0.3229 - val_acc: 0.8873\n",
      "Epoch 41/100\n",
      "60000/60000 [==============================] - 0s 5us/sample - loss: 0.2396 - acc: 0.9122 - val_loss: 0.3230 - val_acc: 0.8866\n",
      "Epoch 42/100\n",
      "60000/60000 [==============================] - 0s 5us/sample - loss: 0.2390 - acc: 0.9127 - val_loss: 0.3226 - val_acc: 0.8866\n",
      "Epoch 43/100\n",
      "60000/60000 [==============================] - 0s 5us/sample - loss: 0.2379 - acc: 0.9140 - val_loss: 0.3237 - val_acc: 0.8873\n",
      "Epoch 44/100\n",
      "60000/60000 [==============================] - 0s 5us/sample - loss: 0.2375 - acc: 0.9142 - val_loss: 0.3231 - val_acc: 0.8875\n",
      "Epoch 45/100\n",
      "60000/60000 [==============================] - 0s 5us/sample - loss: 0.2352 - acc: 0.9151 - val_loss: 0.3223 - val_acc: 0.8875\n",
      "Epoch 46/100\n",
      "60000/60000 [==============================] - 0s 5us/sample - loss: 0.2370 - acc: 0.9138 - val_loss: 0.3229 - val_acc: 0.8881\n",
      "Epoch 47/100\n",
      "60000/60000 [==============================] - 0s 5us/sample - loss: 0.2361 - acc: 0.9148 - val_loss: 0.3226 - val_acc: 0.8880\n",
      "Epoch 48/100\n",
      "60000/60000 [==============================] - 0s 5us/sample - loss: 0.2341 - acc: 0.9148 - val_loss: 0.3226 - val_acc: 0.8872\n",
      "Epoch 49/100\n",
      "60000/60000 [==============================] - 0s 5us/sample - loss: 0.2318 - acc: 0.9161 - val_loss: 0.3222 - val_acc: 0.8878\n",
      "Epoch 50/100\n",
      "60000/60000 [==============================] - 0s 5us/sample - loss: 0.2319 - acc: 0.9157 - val_loss: 0.3216 - val_acc: 0.8875\n",
      "Epoch 51/100\n",
      "60000/60000 [==============================] - 0s 5us/sample - loss: 0.2318 - acc: 0.9162 - val_loss: 0.3226 - val_acc: 0.8871\n",
      "Epoch 52/100\n",
      "60000/60000 [==============================] - 0s 5us/sample - loss: 0.2332 - acc: 0.9153 - val_loss: 0.3210 - val_acc: 0.8873\n",
      "Epoch 53/100\n",
      "60000/60000 [==============================] - 0s 5us/sample - loss: 0.2319 - acc: 0.9168 - val_loss: 0.3223 - val_acc: 0.8875\n",
      "Epoch 54/100\n",
      "60000/60000 [==============================] - 0s 5us/sample - loss: 0.2299 - acc: 0.9171 - val_loss: 0.3219 - val_acc: 0.8872\n",
      "Epoch 55/100\n",
      "60000/60000 [==============================] - 0s 5us/sample - loss: 0.2314 - acc: 0.9160 - val_loss: 0.3224 - val_acc: 0.8885\n",
      "Epoch 56/100\n",
      "60000/60000 [==============================] - 0s 5us/sample - loss: 0.2304 - acc: 0.9169 - val_loss: 0.3215 - val_acc: 0.8881\n",
      "Epoch 57/100\n",
      "60000/60000 [==============================] - 0s 5us/sample - loss: 0.2296 - acc: 0.9180 - val_loss: 0.3217 - val_acc: 0.8873\n",
      "Epoch 58/100\n",
      "60000/60000 [==============================] - 0s 5us/sample - loss: 0.2305 - acc: 0.9159 - val_loss: 0.3213 - val_acc: 0.8883\n",
      "Epoch 59/100\n",
      "60000/60000 [==============================] - 0s 5us/sample - loss: 0.2290 - acc: 0.9163 - val_loss: 0.3217 - val_acc: 0.8871\n",
      "Epoch 60/100\n",
      "60000/60000 [==============================] - 0s 5us/sample - loss: 0.2293 - acc: 0.9182 - val_loss: 0.3223 - val_acc: 0.8864\n",
      "Epoch 61/100\n",
      "60000/60000 [==============================] - 0s 5us/sample - loss: 0.2296 - acc: 0.9175 - val_loss: 0.3217 - val_acc: 0.8875\n",
      "Epoch 62/100\n",
      "60000/60000 [==============================] - 0s 5us/sample - loss: 0.2269 - acc: 0.9179 - val_loss: 0.3214 - val_acc: 0.8872\n",
      "Epoch 63/100\n",
      "60000/60000 [==============================] - 0s 5us/sample - loss: 0.2273 - acc: 0.9175 - val_loss: 0.3213 - val_acc: 0.8877\n",
      "Epoch 64/100\n",
      "60000/60000 [==============================] - 0s 5us/sample - loss: 0.2289 - acc: 0.9163 - val_loss: 0.3210 - val_acc: 0.8882\n",
      "Epoch 65/100\n",
      "60000/60000 [==============================] - 0s 5us/sample - loss: 0.2292 - acc: 0.9162 - val_loss: 0.3215 - val_acc: 0.8880\n"
     ]
    },
    {
     "data": {
      "text/plain": [
       "<tensorflow.python.keras.callbacks.History at 0x2cf8c761a58>"
      ]
     },
     "execution_count": 6,
     "metadata": {},
     "output_type": "execute_result"
    }
   ],
   "source": [
    "random_state = 42\n",
    "np.random.seed(random_state)\n",
    "set_random_seed(random_state)\n",
    "\n",
    "model = Sequential()\n",
    "\n",
    "model.add(Input(shape=(784,)))\n",
    "model.add(Dense(units=200,activation=\"relu\"))\n",
    "model.add(Dropout(0.3))\n",
    "model.add(BatchNormalization())\n",
    "model.add(Dense(units=10, activation = \"softmax\"))\n",
    "\n",
    "# Learning rate schedule function\n",
    "def learning_rate_schedule(epoch):\n",
    "  # Initial learning rate\n",
    "  initial_lr = 0.1\n",
    "  # Decrease factor after every n epochs\n",
    "  decay_factor = 0.5\n",
    "  # Decay every n epochs\n",
    "  decay_step = 12\n",
    "\n",
    "  lr = initial_lr * (decay_factor**(epoch // decay_step))\n",
    "  return lr\n",
    "\n",
    "learning_rate_scheduler_callback = LearningRateScheduler(learning_rate_schedule)\n",
    "\n",
    "# Early stopping to prevent overfitting\n",
    "early_stopping = EarlyStopping(monitor='val_acc', patience=10, restore_best_weights=True)\n",
    "\n",
    "model.compile(optimizer=SGD(),\n",
    "              loss=\"categorical_crossentropy\",\n",
    "              metrics=[\"accuracy\"])\n",
    "\n",
    "\n",
    "model.fit(x=x_train, y=y_train_ohe, \n",
    "          epochs=100, \n",
    "          validation_data=(x_test, y_test_ohe), \n",
    "          batch_size=500, \n",
    "          callbacks=[learning_rate_scheduler_callback, early_stopping])"
   ]
  },
  {
   "cell_type": "code",
   "execution_count": 7,
   "id": "d15f2b15",
   "metadata": {},
   "outputs": [
    {
     "data": {
      "image/png": "[encoded data removed]",
      "text/plain": [
       "<Figure size 432x288 with 1 Axes>"
      ]
     },
     "metadata": {
      "needs_background": "light"
     },
     "output_type": "display_data"
    },
    {
     "data": {
      "image/png": "[encoded data removed]",
      "text/plain": [
       "<Figure size 432x288 with 1 Axes>"
      ]
     },
     "metadata": {
      "needs_background": "light"
     },
     "output_type": "display_data"
    }
   ],
   "source": [
    "history = model.history.history\n",
    "\n",
    "train_loss= history[\"loss\"]\n",
    "val_loss= history[\"val_loss\"]\n",
    "\n",
    "plt.plot(train_loss)\n",
    "plt.plot(val_loss)\n",
    "plt.legend([\"Train\", \"Validation\"])\n",
    "plt.xlabel(\"Epochs\")\n",
    "plt.ylabel(\"Loss\")\n",
    "plt.grid()\n",
    "plt.show()\n",
    "\n",
    "train_acc= history[\"acc\"]\n",
    "val_acc= history[\"val_acc\"]\n",
    "\n",
    "plt.plot(train_acc)\n",
    "plt.plot(val_acc)\n",
    "plt.ylim(0.5,1.1)\n",
    "plt.legend([\"Train\", \"Validation\"])\n",
    "plt.xlabel(\"Epochs\")\n",
    "plt.ylabel(\"Accuracy\")\n",
    "plt.grid()\n",
    "plt.show()"
   ]
  },
  {
   "cell_type": "code",
   "execution_count": 8,
   "id": "83ce2fc3",
   "metadata": {},
   "outputs": [
    {
     "name": "stdout",
     "output_type": "stream",
     "text": [
      "10000/10000 [==============================] - 0s 28us/sample - loss: 0.3224 - acc: 0.8885\n",
      "Final Validation Accuracy: 0.8885 and Final Validation Loss: 0.3224\n"
     ]
    }
   ],
   "source": [
    "# Evaluate model on validation set\n",
    "loss, accuracy = model.evaluate(x_test, y_test_ohe)\n",
    "print('Final Validation Accuracy:', round(accuracy,4), 'and Final Validation Loss:', round(loss,4))"
   ]
  }
 ],
 "metadata": {
  "kernelspec": {
   "display_name": "myenv",
   "language": "python",
   "name": "python3"
  },
  "language_info": {
   "codemirror_mode": {
    "name": "ipython",
    "version": 3
   },
   "file_extension": ".py",
   "mimetype": "text/x-python",
   "name": "python",
   "nbconvert_exporter": "python",
   "pygments_lexer": "ipython3",
   "version": "3.6.13"
  }
 },
 "nbformat": 4,
 "nbformat_minor": 5
}
