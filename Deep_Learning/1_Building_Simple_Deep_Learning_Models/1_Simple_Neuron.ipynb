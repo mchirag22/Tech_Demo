{
 "cells": [
  {
   "cell_type": "markdown",
   "id": "803828f5",
   "metadata": {},
   "source": [
    "# Importing Liberaries"
   ]
  },
  {
   "cell_type": "code",
   "execution_count": 1,
   "id": "3decf8e6",
   "metadata": {},
   "outputs": [],
   "source": [
    "import numpy as np\n",
    "import pandas as pd\n",
    "import matplotlib.pyplot as plt"
   ]
  },
  {
   "cell_type": "markdown",
   "id": "0d5f4bbf",
   "metadata": {},
   "source": [
    "# Sample Data"
   ]
  },
  {
   "cell_type": "code",
   "execution_count": 2,
   "id": "0ff244b3",
   "metadata": {},
   "outputs": [],
   "source": [
    "x1 = 3 # First feature variable\n",
    "x2 = 2 # Second feature variable\n",
    "y_actual = 17 # Target"
   ]
  },
  {
   "cell_type": "markdown",
   "id": "e403f9eb",
   "metadata": {},
   "source": [
    "# Generating Random Initial Weights"
   ]
  },
  {
   "cell_type": "code",
   "execution_count": 3,
   "id": "4610ddc1",
   "metadata": {},
   "outputs": [
    {
     "data": {
      "text/plain": [
       "(7, 4)"
      ]
     },
     "execution_count": 3,
     "metadata": {},
     "output_type": "execute_result"
    }
   ],
   "source": [
    "w1 = np.random.randint(1, 10) # Weight for the first feature variable\n",
    "w2 = np.random.randint(1, 10) # Weight for the second feature variable\n",
    "w1, w2"
   ]
  },
  {
   "cell_type": "markdown",
   "id": "312a3206",
   "metadata": {},
   "source": [
    "# Epoch 1 Calculation"
   ]
  },
  {
   "cell_type": "markdown",
   "id": "4f89e57f",
   "metadata": {},
   "source": [
    "### Forward Pass"
   ]
  },
  {
   "cell_type": "code",
   "execution_count": 4,
   "id": "a435f187",
   "metadata": {},
   "outputs": [
    {
     "data": {
      "text/plain": [
       "29"
      ]
     },
     "execution_count": 4,
     "metadata": {},
     "output_type": "execute_result"
    }
   ],
   "source": [
    "# Affine equation\n",
    "y_pred = w1*x1 + w2*x2 \n",
    "y_pred"
   ]
  },
  {
   "cell_type": "code",
   "execution_count": 5,
   "id": "29a6c7a5",
   "metadata": {},
   "outputs": [
    {
     "data": {
      "text/plain": [
       "144"
      ]
     },
     "execution_count": 5,
     "metadata": {},
     "output_type": "execute_result"
    }
   ],
   "source": [
    "# Error calculation\n",
    "error = (y_pred - y_actual)**2\n",
    "error"
   ]
  },
  {
   "cell_type": "markdown",
   "id": "06123952",
   "metadata": {},
   "source": [
    "### Backpropogation"
   ]
  },
  {
   "cell_type": "code",
   "execution_count": 6,
   "id": "51d018df",
   "metadata": {},
   "outputs": [
    {
     "data": {
      "text/plain": [
       "(72, 48)"
      ]
     },
     "execution_count": 6,
     "metadata": {},
     "output_type": "execute_result"
    }
   ],
   "source": [
    "# Gradient descend\n",
    "dedw1 = 2*(y_pred - y_actual)*x1\n",
    "dedw2 = 2*(y_pred - y_actual)*x2\n",
    "dedw1, dedw2"
   ]
  },
  {
   "cell_type": "code",
   "execution_count": 7,
   "id": "19b151aa",
   "metadata": {},
   "outputs": [
    {
     "data": {
      "text/plain": [
       "(-65, -44)"
      ]
     },
     "execution_count": 7,
     "metadata": {},
     "output_type": "execute_result"
    }
   ],
   "source": [
    "# Weight updation\n",
    "w1 = w1 - dedw1\n",
    "w2 = w2 - dedw2\n",
    "w1, w2"
   ]
  },
  {
   "cell_type": "markdown",
   "id": "9daf5b07",
   "metadata": {},
   "source": [
    "# Epoch 2 Calculation"
   ]
  },
  {
   "cell_type": "markdown",
   "id": "e7db73d6",
   "metadata": {},
   "source": [
    "### Forward Pass"
   ]
  },
  {
   "cell_type": "code",
   "execution_count": 8,
   "id": "e29ba19a",
   "metadata": {},
   "outputs": [
    {
     "data": {
      "text/plain": [
       "-283"
      ]
     },
     "execution_count": 8,
     "metadata": {},
     "output_type": "execute_result"
    }
   ],
   "source": [
    "# Affine equation\n",
    "y_pred = w1*x1 + w2*x2\n",
    "y_pred"
   ]
  },
  {
   "cell_type": "code",
   "execution_count": 9,
   "id": "3f60deb3",
   "metadata": {},
   "outputs": [
    {
     "data": {
      "text/plain": [
       "90000"
      ]
     },
     "execution_count": 9,
     "metadata": {},
     "output_type": "execute_result"
    }
   ],
   "source": [
    "# Error calculation\n",
    "error = (y_pred - y_actual)**2\n",
    "error"
   ]
  },
  {
   "cell_type": "markdown",
   "id": "1c7b3b0b",
   "metadata": {},
   "source": [
    "### Backpropogation"
   ]
  },
  {
   "cell_type": "code",
   "execution_count": 10,
   "id": "060506a8",
   "metadata": {},
   "outputs": [
    {
     "data": {
      "text/plain": [
       "(-1800, -1200)"
      ]
     },
     "execution_count": 10,
     "metadata": {},
     "output_type": "execute_result"
    }
   ],
   "source": [
    "# Gradient descend\n",
    "dedw1 = 2*(y_pred - y_actual)*x1\n",
    "dedw2 = 2*(y_pred - y_actual)*x2\n",
    "dedw1, dedw2"
   ]
  },
  {
   "cell_type": "code",
   "execution_count": 11,
   "id": "cea93524",
   "metadata": {},
   "outputs": [
    {
     "data": {
      "text/plain": [
       "(1735, 1156)"
      ]
     },
     "execution_count": 11,
     "metadata": {},
     "output_type": "execute_result"
    }
   ],
   "source": [
    "# Weight updation\n",
    "w1 = w1 - dedw1\n",
    "w2 = w2 - dedw2\n",
    "w1, w2"
   ]
  },
  {
   "cell_type": "markdown",
   "id": "721c8631",
   "metadata": {},
   "source": [
    "# Simple Neuron"
   ]
  },
  {
   "cell_type": "markdown",
   "id": "aa9c3493",
   "metadata": {},
   "source": [
    "This whole process of forward pass, error calculation, backpropogation, and weight updation is known as the training phase. This is done till the difference between y_pred and y_actual is minimized.\n",
    "\n",
    "Below is a simpler way of doing the same thing using a loop function"
   ]
  },
  {
   "cell_type": "code",
   "execution_count": 12,
   "id": "f004ae56",
   "metadata": {},
   "outputs": [
    {
     "name": "stdout",
     "output_type": "stream",
     "text": [
      "Iteration: 1 y_actual: 17 & y_pred: 320\n",
      "Iteration: 2 y_actual: 17 & y_pred: 241.22\n",
      "Iteration: 3 y_actual: 17 & y_pred: 182.92279999999997\n",
      "Iteration: 4 y_actual: 17 & y_pred: 139.782872\n",
      "Iteration: 5 y_actual: 17 & y_pred: 107.85932527999998\n",
      "Iteration: 6 y_actual: 17 & y_pred: 84.23590070719999\n",
      "Iteration: 7 y_actual: 17 & y_pred: 66.754566523328\n",
      "Iteration: 8 y_actual: 17 & y_pred: 53.81837922726271\n",
      "Iteration: 9 y_actual: 17 & y_pred: 44.2456006281744\n",
      "Iteration: 10 y_actual: 17 & y_pred: 37.161744464849065\n",
      "Iteration: 11 y_actual: 17 & y_pred: 31.919690903988304\n",
      "Iteration: 12 y_actual: 17 & y_pred: 28.040571268951346\n",
      "Iteration: 13 y_actual: 17 & y_pred: 25.170022739023995\n",
      "Iteration: 14 y_actual: 17 & y_pred: 23.045816826877754\n",
      "Iteration: 15 y_actual: 17 & y_pred: 21.473904451889542\n",
      "Iteration: 16 y_actual: 17 & y_pred: 20.310689294398262\n",
      "Iteration: 17 y_actual: 17 & y_pred: 19.44991007785471\n",
      "Iteration: 18 y_actual: 17 & y_pred: 18.812933457612488\n",
      "Iteration: 19 y_actual: 17 & y_pred: 18.34157075863324\n",
      "Iteration: 20 y_actual: 17 & y_pred: 17.992762361388596\n",
      "Iteration: 21 y_actual: 17 & y_pred: 17.734644147427563\n",
      "Iteration: 22 y_actual: 17 & y_pred: 17.543636669096397\n",
      "Iteration: 23 y_actual: 17 & y_pred: 17.402291135131335\n",
      "Iteration: 24 y_actual: 17 & y_pred: 17.297695439997185\n",
      "Iteration: 25 y_actual: 17 & y_pred: 17.22029462559792\n",
      "Iteration: 26 y_actual: 17 & y_pred: 17.16301802294246\n",
      "Iteration: 27 y_actual: 17 & y_pred: 17.12063333697742\n",
      "Iteration: 28 y_actual: 17 & y_pred: 17.08926866936329\n",
      "Iteration: 29 y_actual: 17 & y_pred: 17.066058815328834\n",
      "Iteration: 30 y_actual: 17 & y_pred: 17.04888352334334\n"
     ]
    }
   ],
   "source": [
    "x1 = 3\n",
    "x2 = 2\n",
    "y_actual = 17\n",
    "\n",
    "w1 = np.random.randint(1, 100)\n",
    "w2 = np.random.randint(1, 100)\n",
    "\n",
    "# Creating blank lists to log the variables\n",
    "y_pred_list = []\n",
    "error_list = []\n",
    "w1_list = []\n",
    "w2_list = []\n",
    "lr = 0.01 # Learning rate: defines how big or small weight updations need to be\n",
    "\n",
    "for epoch in range(1, 31):\n",
    "  # Affine equation\n",
    "  y_pred = x1*w1 + x2*w2\n",
    "  y_pred_list.append(y_pred)\n",
    "  w1_list.append(w1)\n",
    "  w2_list.append(w2)\n",
    "\n",
    "  # Error calculation\n",
    "  error = (y_pred - y_actual)**2\n",
    "  error_list.append(error)\n",
    "\n",
    "  # Gradient descend\n",
    "  dedw1 = 2*(y_pred - y_actual)*(x1)\n",
    "  dedw2 = 2*(y_pred - y_actual)*(x2)\n",
    "\n",
    "  # Weight updation\n",
    "  w1 = w1 - lr*dedw1\n",
    "  w2 = w2 - lr*dedw2\n",
    "  print(f\"Iteration: {epoch} y_actual: {y_actual} & y_pred: {y_pred}\")\n",
    "  if abs(y_pred-y_actual) < 0.0001:\n",
    "    break"
   ]
  },
  {
   "cell_type": "code",
   "execution_count": 13,
   "id": "8249dc18",
   "metadata": {},
   "outputs": [
    {
     "data": {
      "image/png": "[encoded data removed]",
      "text/plain": [
       "<Figure size 1440x360 with 1 Axes>"
      ]
     },
     "metadata": {
      "needs_background": "light"
     },
     "output_type": "display_data"
    }
   ],
   "source": [
    "# Plotting error changes over epochs\n",
    "plt.figure(figsize=(20, 5))\n",
    "plt.plot(error_list)\n",
    "plt.title(\"Error Graph\")\n",
    "plt.xlabel(\"Epochs\")\n",
    "plt.ylabel('Error')\n",
    "plt.show()"
   ]
  },
  {
   "cell_type": "code",
   "execution_count": 14,
   "id": "65d7c047",
   "metadata": {},
   "outputs": [
    {
     "data": {
      "image/png": "[encoded data removed]",
      "text/plain": [
       "<Figure size 1440x360 with 1 Axes>"
      ]
     },
     "metadata": {
      "needs_background": "light"
     },
     "output_type": "display_data"
    }
   ],
   "source": [
    "# Plotting y_pred values over epochs\n",
    "plt.figure(figsize=(20, 5))\n",
    "plt.plot(y_pred_list)\n",
    "plt.title(\"Prediction Graph\")\n",
    "plt.xlabel(\"Epochs\")\n",
    "plt.ylabel('y_pred')\n",
    "\n",
    "plt.show()"
   ]
  },
  {
   "cell_type": "markdown",
   "id": "2f61b873",
   "metadata": {},
   "source": [
    "This is how a simple neural neuron works. \n",
    "\n",
    "For capturing more complex relations between features and target, multiple neutons can be used in various configurations. \n",
    "\n",
    "These configurations are known as Neural Networks"
   ]
  }
 ],
 "metadata": {
  "kernelspec": {
   "display_name": "Python 3 (ipykernel)",
   "language": "python",
   "name": "python3"
  },
  "language_info": {
   "codemirror_mode": {
    "name": "ipython",
    "version": 3
   },
   "file_extension": ".py",
   "mimetype": "text/x-python",
   "name": "python",
   "nbconvert_exporter": "python",
   "pygments_lexer": "ipython3",
   "version": "3.6.13"
  }
 },
 "nbformat": 4,
 "nbformat_minor": 5
}
